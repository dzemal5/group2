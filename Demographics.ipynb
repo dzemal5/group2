{
 "cells": [
  {
   "cell_type": "code",
   "execution_count": 4,
   "id": "0604e86e-62b6-45ed-867c-8ec611c78def",
   "metadata": {},
   "outputs": [],
   "source": [
    "import pandas as pd\n",
    "import matplotlib.pyplot as plt"
   ]
  },
  {
   "cell_type": "code",
   "execution_count": 9,
   "id": "05ac13e9-3510-44ec-a7e3-ae7def2a9228",
   "metadata": {},
   "outputs": [
    {
     "data": {
      "text/html": [
       "<div>\n",
       "<style scoped>\n",
       "    .dataframe tbody tr th:only-of-type {\n",
       "        vertical-align: middle;\n",
       "    }\n",
       "\n",
       "    .dataframe tbody tr th {\n",
       "        vertical-align: top;\n",
       "    }\n",
       "\n",
       "    .dataframe thead th {\n",
       "        text-align: right;\n",
       "    }\n",
       "</style>\n",
       "<table border=\"1\" class=\"dataframe\">\n",
       "  <thead>\n",
       "    <tr style=\"text-align: right;\">\n",
       "      <th></th>\n",
       "      <th>order_id</th>\n",
       "      <th>order_date</th>\n",
       "      <th>status</th>\n",
       "      <th>item_id</th>\n",
       "      <th>sku</th>\n",
       "      <th>qty_ordered</th>\n",
       "      <th>price</th>\n",
       "      <th>value</th>\n",
       "      <th>discount_amount</th>\n",
       "      <th>total</th>\n",
       "      <th>...</th>\n",
       "      <th>Sign in date</th>\n",
       "      <th>Phone No.</th>\n",
       "      <th>Place Name</th>\n",
       "      <th>County</th>\n",
       "      <th>City</th>\n",
       "      <th>State</th>\n",
       "      <th>Zip</th>\n",
       "      <th>Region</th>\n",
       "      <th>User Name</th>\n",
       "      <th>Discount_Percent</th>\n",
       "    </tr>\n",
       "  </thead>\n",
       "  <tbody>\n",
       "    <tr>\n",
       "      <th>0</th>\n",
       "      <td>100354678</td>\n",
       "      <td>1/10/20</td>\n",
       "      <td>received</td>\n",
       "      <td>574772</td>\n",
       "      <td>oasis_Oasis-064-36</td>\n",
       "      <td>21</td>\n",
       "      <td>89.9</td>\n",
       "      <td>1798.0</td>\n",
       "      <td>0.0</td>\n",
       "      <td>1798.0</td>\n",
       "      <td>...</td>\n",
       "      <td>8/22/06</td>\n",
       "      <td>405-959-1129</td>\n",
       "      <td>Vinson</td>\n",
       "      <td>Harmon</td>\n",
       "      <td>Vinson</td>\n",
       "      <td>OK</td>\n",
       "      <td>73571</td>\n",
       "      <td>South</td>\n",
       "      <td>jwtitus</td>\n",
       "      <td>0.0</td>\n",
       "    </tr>\n",
       "    <tr>\n",
       "      <th>1</th>\n",
       "      <td>100354678</td>\n",
       "      <td>1/10/20</td>\n",
       "      <td>received</td>\n",
       "      <td>574774</td>\n",
       "      <td>Fantastic_FT-48</td>\n",
       "      <td>11</td>\n",
       "      <td>19.0</td>\n",
       "      <td>190.0</td>\n",
       "      <td>0.0</td>\n",
       "      <td>190.0</td>\n",
       "      <td>...</td>\n",
       "      <td>8/22/06</td>\n",
       "      <td>405-959-1129</td>\n",
       "      <td>Vinson</td>\n",
       "      <td>Harmon</td>\n",
       "      <td>Vinson</td>\n",
       "      <td>OK</td>\n",
       "      <td>73571</td>\n",
       "      <td>South</td>\n",
       "      <td>jwtitus</td>\n",
       "      <td>0.0</td>\n",
       "    </tr>\n",
       "    <tr>\n",
       "      <th>2</th>\n",
       "      <td>100354680</td>\n",
       "      <td>1/10/20</td>\n",
       "      <td>complete</td>\n",
       "      <td>574777</td>\n",
       "      <td>mdeal_DMC-610-8</td>\n",
       "      <td>9</td>\n",
       "      <td>149.9</td>\n",
       "      <td>1199.2</td>\n",
       "      <td>0.0</td>\n",
       "      <td>1199.2</td>\n",
       "      <td>...</td>\n",
       "      <td>8/22/06</td>\n",
       "      <td>405-959-1129</td>\n",
       "      <td>Vinson</td>\n",
       "      <td>Harmon</td>\n",
       "      <td>Vinson</td>\n",
       "      <td>OK</td>\n",
       "      <td>73571</td>\n",
       "      <td>South</td>\n",
       "      <td>jwtitus</td>\n",
       "      <td>0.0</td>\n",
       "    </tr>\n",
       "    <tr>\n",
       "      <th>3</th>\n",
       "      <td>100354680</td>\n",
       "      <td>1/10/20</td>\n",
       "      <td>complete</td>\n",
       "      <td>574779</td>\n",
       "      <td>oasis_Oasis-061-36</td>\n",
       "      <td>9</td>\n",
       "      <td>79.9</td>\n",
       "      <td>639.2</td>\n",
       "      <td>0.0</td>\n",
       "      <td>639.2</td>\n",
       "      <td>...</td>\n",
       "      <td>8/22/06</td>\n",
       "      <td>405-959-1129</td>\n",
       "      <td>Vinson</td>\n",
       "      <td>Harmon</td>\n",
       "      <td>Vinson</td>\n",
       "      <td>OK</td>\n",
       "      <td>73571</td>\n",
       "      <td>South</td>\n",
       "      <td>jwtitus</td>\n",
       "      <td>0.0</td>\n",
       "    </tr>\n",
       "    <tr>\n",
       "      <th>4</th>\n",
       "      <td>100367357</td>\n",
       "      <td>13/11/2020</td>\n",
       "      <td>received</td>\n",
       "      <td>595185</td>\n",
       "      <td>MEFNAR59C38B6CA08CD</td>\n",
       "      <td>2</td>\n",
       "      <td>99.9</td>\n",
       "      <td>99.9</td>\n",
       "      <td>0.0</td>\n",
       "      <td>99.9</td>\n",
       "      <td>...</td>\n",
       "      <td>8/22/06</td>\n",
       "      <td>405-959-1129</td>\n",
       "      <td>Vinson</td>\n",
       "      <td>Harmon</td>\n",
       "      <td>Vinson</td>\n",
       "      <td>OK</td>\n",
       "      <td>73571</td>\n",
       "      <td>South</td>\n",
       "      <td>jwtitus</td>\n",
       "      <td>0.0</td>\n",
       "    </tr>\n",
       "  </tbody>\n",
       "</table>\n",
       "<p>5 rows × 35 columns</p>\n",
       "</div>"
      ],
      "text/plain": [
       "    order_id  order_date    status  item_id                  sku  qty_ordered  \\\n",
       "0  100354678     1/10/20  received   574772   oasis_Oasis-064-36           21   \n",
       "1  100354678     1/10/20  received   574774      Fantastic_FT-48           11   \n",
       "2  100354680     1/10/20  complete   574777      mdeal_DMC-610-8            9   \n",
       "3  100354680     1/10/20  complete   574779   oasis_Oasis-061-36            9   \n",
       "4  100367357  13/11/2020  received   595185  MEFNAR59C38B6CA08CD            2   \n",
       "\n",
       "   price   value  discount_amount   total  ... Sign in date    Phone No.   \\\n",
       "0   89.9  1798.0              0.0  1798.0  ...      8/22/06  405-959-1129   \n",
       "1   19.0   190.0              0.0   190.0  ...      8/22/06  405-959-1129   \n",
       "2  149.9  1199.2              0.0  1199.2  ...      8/22/06  405-959-1129   \n",
       "3   79.9   639.2              0.0   639.2  ...      8/22/06  405-959-1129   \n",
       "4   99.9    99.9              0.0    99.9  ...      8/22/06  405-959-1129   \n",
       "\n",
       "  Place Name  County    City State    Zip Region User Name Discount_Percent  \n",
       "0     Vinson  Harmon  Vinson    OK  73571  South   jwtitus              0.0  \n",
       "1     Vinson  Harmon  Vinson    OK  73571  South   jwtitus              0.0  \n",
       "2     Vinson  Harmon  Vinson    OK  73571  South   jwtitus              0.0  \n",
       "3     Vinson  Harmon  Vinson    OK  73571  South   jwtitus              0.0  \n",
       "4     Vinson  Harmon  Vinson    OK  73571  South   jwtitus              0.0  \n",
       "\n",
       "[5 rows x 35 columns]"
      ]
     },
     "execution_count": 9,
     "metadata": {},
     "output_type": "execute_result"
    }
   ],
   "source": [
    "df = pd.read_csv('Resources/Amazon Sales FY2020-21.csv',low_memory=False) \n",
    "df.head()"
   ]
  },
  {
   "cell_type": "code",
   "execution_count": 10,
   "id": "731c3e54-3c0b-410c-b04a-178ad8d8cd42",
   "metadata": {},
   "outputs": [
    {
     "data": {
      "text/plain": [
       "(286392, 35)"
      ]
     },
     "execution_count": 10,
     "metadata": {},
     "output_type": "execute_result"
    }
   ],
   "source": [
    "df.shape"
   ]
  },
  {
   "cell_type": "code",
   "execution_count": 13,
   "id": "7a75aa2b-d3eb-445d-b20e-4c9d1bb08081",
   "metadata": {},
   "outputs": [
    {
     "data": {
      "text/plain": [
       "<bound method DataFrame.info of          order_id  order_date      status  item_id                    sku  \\\n",
       "0       100354678     1/10/20    received   574772     oasis_Oasis-064-36   \n",
       "1       100354678     1/10/20    received   574774        Fantastic_FT-48   \n",
       "2       100354680     1/10/20    complete   574777        mdeal_DMC-610-8   \n",
       "3       100354680     1/10/20    complete   574779     oasis_Oasis-061-36   \n",
       "4       100367357  13/11/2020    received   595185    MEFNAR59C38B6CA08CD   \n",
       "...           ...         ...         ...      ...                    ...   \n",
       "286387  100562365  30/09/2021        paid   905179    APPCHA5AF14939B8F8A   \n",
       "286388  100562376  30/09/2021         cod   905191    MEFCOT5A8D1E973B886   \n",
       "286389  100562383  30/09/2021         cod   905200  WOFVAL59D5EA84167F9-M   \n",
       "286390  100562384  30/09/2021         cod   905202  WOFNIG5B4D7EB0E9FDD-L   \n",
       "286391  100562386  30/09/2021  processing   905205    MATHUA5AF70A7D1E50A   \n",
       "\n",
       "        qty_ordered   price   value  discount_amount   total  ...  \\\n",
       "0                21    89.9  1798.0              0.0  1798.0  ...   \n",
       "1                11    19.0   190.0              0.0   190.0  ...   \n",
       "2                 9   149.9  1199.2              0.0  1199.2  ...   \n",
       "3                 9    79.9   639.2              0.0   639.2  ...   \n",
       "4                 2    99.9    99.9              0.0    99.9  ...   \n",
       "...             ...     ...     ...              ...     ...  ...   \n",
       "286387            2  4419.9  4419.9              0.0  4419.9  ...   \n",
       "286388            2    39.9    39.9              0.0    39.9  ...   \n",
       "286389            2    40.0    40.0              0.0    40.0  ...   \n",
       "286390            2    49.9    49.9              0.0    49.9  ...   \n",
       "286391            2  3559.9  3559.9              0.0  3559.9  ...   \n",
       "\n",
       "       Sign in date    Phone No.      Place Name    County           City  \\\n",
       "0           8/22/06  405-959-1129         Vinson    Harmon         Vinson   \n",
       "1           8/22/06  405-959-1129         Vinson    Harmon         Vinson   \n",
       "2           8/22/06  405-959-1129         Vinson    Harmon         Vinson   \n",
       "3           8/22/06  405-959-1129         Vinson    Harmon         Vinson   \n",
       "4           8/22/06  405-959-1129         Vinson    Harmon         Vinson   \n",
       "...             ...           ...            ...       ...            ...   \n",
       "286387      3/21/07  212-772-7404      Rushville     Yates      Rushville   \n",
       "286388     10/24/11  229-817-9451  Lawrenceville  Gwinnett  Lawrenceville   \n",
       "286389      7/25/87  252-414-8396         Durham    Durham         Durham   \n",
       "286390      7/25/87  252-414-8396         Durham    Durham         Durham   \n",
       "286391      1/28/15  423-276-2699      Knoxville      Knox      Knoxville   \n",
       "\n",
       "       State    Zip     Region    User Name Discount_Percent  \n",
       "0         OK  73571      South      jwtitus              0.0  \n",
       "1         OK  73571      South      jwtitus              0.0  \n",
       "2         OK  73571      South      jwtitus              0.0  \n",
       "3         OK  73571      South      jwtitus              0.0  \n",
       "4         OK  73571      South      jwtitus              0.0  \n",
       "...      ...    ...        ...          ...              ...  \n",
       "286387    NY  14544  Northeast     bklatham              0.0  \n",
       "286388    GA  30044      South   bmbrunetti              0.0  \n",
       "286389    NC  27701      South     fngiusti              0.0  \n",
       "286390    NC  27701      South     fngiusti              0.0  \n",
       "286391    TN  37920      South  reschlosser              0.0  \n",
       "\n",
       "[286392 rows x 35 columns]>"
      ]
     },
     "execution_count": 13,
     "metadata": {},
     "output_type": "execute_result"
    }
   ],
   "source": [
    "df.info"
   ]
  },
  {
   "cell_type": "code",
   "execution_count": 12,
   "id": "0993440d-0bd7-402d-b5ee-c66bd0d8867f",
   "metadata": {},
   "outputs": [
    {
     "ename": "TypeError",
     "evalue": "no numeric data to plot",
     "output_type": "error",
     "traceback": [
      "\u001b[0;31m---------------------------------------------------------------------------\u001b[0m",
      "\u001b[0;31mTypeError\u001b[0m                                 Traceback (most recent call last)",
      "Cell \u001b[0;32mIn[12], line 2\u001b[0m\n\u001b[1;32m      1\u001b[0m \u001b[38;5;66;03m# Plotting\u001b[39;00m\n\u001b[0;32m----> 2\u001b[0m ax \u001b[38;5;241m=\u001b[39m df[[\u001b[38;5;124m'\u001b[39m\u001b[38;5;124mGender\u001b[39m\u001b[38;5;124m'\u001b[39m, \u001b[38;5;124m'\u001b[39m\u001b[38;5;124mcategory\u001b[39m\u001b[38;5;124m'\u001b[39m]]\u001b[38;5;241m.\u001b[39mplot\u001b[38;5;241m.\u001b[39mhist(bins\u001b[38;5;241m=\u001b[39m\u001b[38;5;241m30\u001b[39m, alpha\u001b[38;5;241m=\u001b[39m\u001b[38;5;241m0.7\u001b[39m, figsize\u001b[38;5;241m=\u001b[39m(\u001b[38;5;241m12\u001b[39m, \u001b[38;5;241m6\u001b[39m))\n\u001b[1;32m      4\u001b[0m \u001b[38;5;66;03m# Adding titles and labels\u001b[39;00m\n\u001b[1;32m      5\u001b[0m ax\u001b[38;5;241m.\u001b[39mset_title(\u001b[38;5;124m'\u001b[39m\u001b[38;5;124mHistogram of Two Variables\u001b[39m\u001b[38;5;124m'\u001b[39m)\n",
      "File \u001b[0;32m/opt/anaconda3/lib/python3.11/site-packages/pandas/plotting/_core.py:1412\u001b[0m, in \u001b[0;36mPlotAccessor.hist\u001b[0;34m(self, by, bins, **kwargs)\u001b[0m\n\u001b[1;32m   1350\u001b[0m \u001b[38;5;28;01mdef\u001b[39;00m \u001b[38;5;21mhist\u001b[39m(\n\u001b[1;32m   1351\u001b[0m     \u001b[38;5;28mself\u001b[39m, by: IndexLabel \u001b[38;5;241m|\u001b[39m \u001b[38;5;28;01mNone\u001b[39;00m \u001b[38;5;241m=\u001b[39m \u001b[38;5;28;01mNone\u001b[39;00m, bins: \u001b[38;5;28mint\u001b[39m \u001b[38;5;241m=\u001b[39m \u001b[38;5;241m10\u001b[39m, \u001b[38;5;241m*\u001b[39m\u001b[38;5;241m*\u001b[39mkwargs\n\u001b[1;32m   1352\u001b[0m ) \u001b[38;5;241m-\u001b[39m\u001b[38;5;241m>\u001b[39m PlotAccessor:\n\u001b[1;32m   1353\u001b[0m \u001b[38;5;250m    \u001b[39m\u001b[38;5;124;03m\"\"\"\u001b[39;00m\n\u001b[1;32m   1354\u001b[0m \u001b[38;5;124;03m    Draw one histogram of the DataFrame's columns.\u001b[39;00m\n\u001b[1;32m   1355\u001b[0m \n\u001b[0;32m   (...)\u001b[0m\n\u001b[1;32m   1410\u001b[0m \u001b[38;5;124;03m        >>> ax = df.plot.hist(column=[\"age\"], by=\"gender\", figsize=(10, 8))\u001b[39;00m\n\u001b[1;32m   1411\u001b[0m \u001b[38;5;124;03m    \"\"\"\u001b[39;00m\n\u001b[0;32m-> 1412\u001b[0m     \u001b[38;5;28;01mreturn\u001b[39;00m \u001b[38;5;28mself\u001b[39m(kind\u001b[38;5;241m=\u001b[39m\u001b[38;5;124m\"\u001b[39m\u001b[38;5;124mhist\u001b[39m\u001b[38;5;124m\"\u001b[39m, by\u001b[38;5;241m=\u001b[39mby, bins\u001b[38;5;241m=\u001b[39mbins, \u001b[38;5;241m*\u001b[39m\u001b[38;5;241m*\u001b[39mkwargs)\n",
      "File \u001b[0;32m/opt/anaconda3/lib/python3.11/site-packages/pandas/plotting/_core.py:1031\u001b[0m, in \u001b[0;36mPlotAccessor.__call__\u001b[0;34m(self, *args, **kwargs)\u001b[0m\n\u001b[1;32m   1028\u001b[0m             label_name \u001b[38;5;241m=\u001b[39m label_kw \u001b[38;5;129;01mor\u001b[39;00m data\u001b[38;5;241m.\u001b[39mcolumns\n\u001b[1;32m   1029\u001b[0m             data\u001b[38;5;241m.\u001b[39mcolumns \u001b[38;5;241m=\u001b[39m label_name\n\u001b[0;32m-> 1031\u001b[0m \u001b[38;5;28;01mreturn\u001b[39;00m plot_backend\u001b[38;5;241m.\u001b[39mplot(data, kind\u001b[38;5;241m=\u001b[39mkind, \u001b[38;5;241m*\u001b[39m\u001b[38;5;241m*\u001b[39mkwargs)\n",
      "File \u001b[0;32m/opt/anaconda3/lib/python3.11/site-packages/pandas/plotting/_matplotlib/__init__.py:71\u001b[0m, in \u001b[0;36mplot\u001b[0;34m(data, kind, **kwargs)\u001b[0m\n\u001b[1;32m     69\u001b[0m         kwargs[\u001b[38;5;124m\"\u001b[39m\u001b[38;5;124max\u001b[39m\u001b[38;5;124m\"\u001b[39m] \u001b[38;5;241m=\u001b[39m \u001b[38;5;28mgetattr\u001b[39m(ax, \u001b[38;5;124m\"\u001b[39m\u001b[38;5;124mleft_ax\u001b[39m\u001b[38;5;124m\"\u001b[39m, ax)\n\u001b[1;32m     70\u001b[0m plot_obj \u001b[38;5;241m=\u001b[39m PLOT_CLASSES[kind](data, \u001b[38;5;241m*\u001b[39m\u001b[38;5;241m*\u001b[39mkwargs)\n\u001b[0;32m---> 71\u001b[0m plot_obj\u001b[38;5;241m.\u001b[39mgenerate()\n\u001b[1;32m     72\u001b[0m plot_obj\u001b[38;5;241m.\u001b[39mdraw()\n\u001b[1;32m     73\u001b[0m \u001b[38;5;28;01mreturn\u001b[39;00m plot_obj\u001b[38;5;241m.\u001b[39mresult\n",
      "File \u001b[0;32m/opt/anaconda3/lib/python3.11/site-packages/pandas/plotting/_matplotlib/core.py:451\u001b[0m, in \u001b[0;36mMPLPlot.generate\u001b[0;34m(self)\u001b[0m\n\u001b[1;32m    449\u001b[0m \u001b[38;5;28;01mdef\u001b[39;00m \u001b[38;5;21mgenerate\u001b[39m(\u001b[38;5;28mself\u001b[39m) \u001b[38;5;241m-\u001b[39m\u001b[38;5;241m>\u001b[39m \u001b[38;5;28;01mNone\u001b[39;00m:\n\u001b[1;32m    450\u001b[0m     \u001b[38;5;28mself\u001b[39m\u001b[38;5;241m.\u001b[39m_args_adjust()\n\u001b[0;32m--> 451\u001b[0m     \u001b[38;5;28mself\u001b[39m\u001b[38;5;241m.\u001b[39m_compute_plot_data()\n\u001b[1;32m    452\u001b[0m     \u001b[38;5;28mself\u001b[39m\u001b[38;5;241m.\u001b[39m_setup_subplots()\n\u001b[1;32m    453\u001b[0m     \u001b[38;5;28mself\u001b[39m\u001b[38;5;241m.\u001b[39m_make_plot()\n",
      "File \u001b[0;32m/opt/anaconda3/lib/python3.11/site-packages/pandas/plotting/_matplotlib/core.py:636\u001b[0m, in \u001b[0;36mMPLPlot._compute_plot_data\u001b[0;34m(self)\u001b[0m\n\u001b[1;32m    634\u001b[0m \u001b[38;5;66;03m# no non-numeric frames or series allowed\u001b[39;00m\n\u001b[1;32m    635\u001b[0m \u001b[38;5;28;01mif\u001b[39;00m is_empty:\n\u001b[0;32m--> 636\u001b[0m     \u001b[38;5;28;01mraise\u001b[39;00m \u001b[38;5;167;01mTypeError\u001b[39;00m(\u001b[38;5;124m\"\u001b[39m\u001b[38;5;124mno numeric data to plot\u001b[39m\u001b[38;5;124m\"\u001b[39m)\n\u001b[1;32m    638\u001b[0m \u001b[38;5;28mself\u001b[39m\u001b[38;5;241m.\u001b[39mdata \u001b[38;5;241m=\u001b[39m numeric_data\u001b[38;5;241m.\u001b[39mapply(\u001b[38;5;28mself\u001b[39m\u001b[38;5;241m.\u001b[39m_convert_to_ndarray)\n",
      "\u001b[0;31mTypeError\u001b[0m: no numeric data to plot"
     ]
    }
   ],
   "source": [
    "# Plotting\n",
    "ax = df[['Gender', 'category']].plot.hist(bins=30, alpha=0.7, figsize=(12, 6))\n",
    "\n",
    "# Adding titles and labels\n",
    "ax.set_title('Histogram of Two Variables')\n",
    "ax.set_xlabel('Value')\n",
    "ax.set_ylabel('Frequency')\n",
    "\n",
    "# Display the plot\n",
    "plt.show()\n"
   ]
  },
  {
   "cell_type": "code",
   "execution_count": null,
   "id": "58d312f1-d547-41b5-b85e-3a41fa6f8e75",
   "metadata": {},
   "outputs": [],
   "source": [
    "# Group by 'Category' and 'Product' and count occurrences\n",
    "count_df = df.groupby(['Gender', 'category']).size().reset_index(name='Counts')\n",
    "print(count_df)\n"
   ]
  },
  {
   "cell_type": "code",
   "execution_count": 14,
   "id": "cfde4763-a419-4ad1-a7fe-a54244eb0b12",
   "metadata": {},
   "outputs": [
    {
     "ename": "NameError",
     "evalue": "name 'count_df' is not defined",
     "output_type": "error",
     "traceback": [
      "\u001b[0;31m---------------------------------------------------------------------------\u001b[0m",
      "\u001b[0;31mNameError\u001b[0m                                 Traceback (most recent call last)",
      "Cell \u001b[0;32mIn[14], line 1\u001b[0m\n\u001b[0;32m----> 1\u001b[0m count_df_F \u001b[38;5;241m=\u001b[39m count_df\u001b[38;5;241m.\u001b[39mloc[count_df[\u001b[38;5;124m\"\u001b[39m\u001b[38;5;124mGender\u001b[39m\u001b[38;5;124m\"\u001b[39m]\u001b[38;5;241m==\u001b[39m\u001b[38;5;124m\"\u001b[39m\u001b[38;5;124mF\u001b[39m\u001b[38;5;124m\"\u001b[39m]\n\u001b[1;32m      2\u001b[0m count_df_F\n",
      "\u001b[0;31mNameError\u001b[0m: name 'count_df' is not defined"
     ]
    }
   ],
   "source": [
    "count_df_F = count_df.loc[count_df[\"Gender\"]==\"F\"]\n",
    "count_df_F"
   ]
  },
  {
   "cell_type": "code",
   "execution_count": 15,
   "id": "d8da36cf-67f6-4d84-b809-08b2f12b0143",
   "metadata": {},
   "outputs": [
    {
     "ename": "NameError",
     "evalue": "name 'count_df_F' is not defined",
     "output_type": "error",
     "traceback": [
      "\u001b[0;31m---------------------------------------------------------------------------\u001b[0m",
      "\u001b[0;31mNameError\u001b[0m                                 Traceback (most recent call last)",
      "Cell \u001b[0;32mIn[15], line 1\u001b[0m\n\u001b[0;32m----> 1\u001b[0m count_df_F\u001b[38;5;241m.\u001b[39mplot(x\u001b[38;5;241m=\u001b[39m\u001b[38;5;124m\"\u001b[39m\u001b[38;5;124mcategory\u001b[39m\u001b[38;5;124m\"\u001b[39m,y\u001b[38;5;241m=\u001b[39m\u001b[38;5;124m\"\u001b[39m\u001b[38;5;124mCounts\u001b[39m\u001b[38;5;124m\"\u001b[39m)\n\u001b[1;32m      2\u001b[0m plt\u001b[38;5;241m.\u001b[39mxticks(rotation\u001b[38;5;241m=\u001b[39m\u001b[38;5;241m70\u001b[39m)\n\u001b[1;32m      3\u001b[0m plt\u001b[38;5;241m.\u001b[39mylabel(\u001b[38;5;124m\"\u001b[39m\u001b[38;5;124mquantity\u001b[39m\u001b[38;5;124m\"\u001b[39m)\n",
      "\u001b[0;31mNameError\u001b[0m: name 'count_df_F' is not defined"
     ]
    }
   ],
   "source": [
    "count_df_F.plot(x=\"category\",y=\"Counts\")\n",
    "plt.xticks(rotation=70)\n",
    "plt.ylabel(\"quantity\")\n",
    "plt.title(\"Female Category vs. Quantity Purchased\")\n",
    "plt.show()"
   ]
  },
  {
   "cell_type": "code",
   "execution_count": null,
   "id": "4e265027-89cd-4679-8df7-1b21a1b586df",
   "metadata": {},
   "outputs": [],
   "source": [
    "import pandas as pd\n",
    "import matplotlib.pyplot as plt"
   ]
  },
  {
   "cell_type": "code",
   "execution_count": null,
   "id": "fad55868-b514-45e6-a097-8cdccb1285d2",
   "metadata": {},
   "outputs": [],
   "source": []
  }
 ],
 "metadata": {
  "kernelspec": {
   "display_name": "Python 3 (ipykernel)",
   "language": "python",
   "name": "python3"
  },
  "language_info": {
   "codemirror_mode": {
    "name": "ipython",
    "version": 3
   },
   "file_extension": ".py",
   "mimetype": "text/x-python",
   "name": "python",
   "nbconvert_exporter": "python",
   "pygments_lexer": "ipython3",
   "version": "3.11.7"
  }
 },
 "nbformat": 4,
 "nbformat_minor": 5
}
